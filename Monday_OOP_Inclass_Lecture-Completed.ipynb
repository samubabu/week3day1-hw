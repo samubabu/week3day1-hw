{
 "cells": [
  {
   "cell_type": "markdown",
   "metadata": {},
   "source": [
    "# Object-Oriented-Programming (OOP)"
   ]
  },
  {
   "cell_type": "markdown",
   "metadata": {},
   "source": [
    "## Tasks Today:\n",
    "\n",
    "   \n",
    "\n",
    "1) <b>Creating a Class (Initializing/Declaring)</b> <br>\n",
    "2) <b>Using a Class (Instantiating)</b> <br>\n",
    " &nbsp;&nbsp;&nbsp;&nbsp; a) Creating One Instance <br>\n",
    " &nbsp;&nbsp;&nbsp;&nbsp; b) Creating Multiple Instances <br>\n",
    " &nbsp;&nbsp;&nbsp;&nbsp; c) In-Class Exercise #1 - Create a Class 'Car' and instantiate three different makes of cars <br>\n",
    "3) <b>The \\__init\\__() Method</b> <br>\n",
    " &nbsp;&nbsp;&nbsp;&nbsp; a) The 'self' Attribute <br>\n",
    "4) <b>Class Attributes</b> <br>\n",
    " &nbsp;&nbsp;&nbsp;&nbsp; a) Initializing Attributes <br>\n",
    " &nbsp;&nbsp;&nbsp;&nbsp; b) Setting an Attribute Outside of the \\__init\\__() Method <br>\n",
    " &nbsp;&nbsp;&nbsp;&nbsp; c) Setting Defaults for Attributes <br>\n",
    " &nbsp;&nbsp;&nbsp;&nbsp; d) Accessing Class Attributes <br>\n",
    " &nbsp;&nbsp;&nbsp;&nbsp; e) Changing Class Attributes <br>\n",
    " &nbsp;&nbsp;&nbsp;&nbsp; f) In-Class Exercise #2 - Add a color and wheels attribute to your 'Car' class <br>\n",
    "5) <b>Class Methods</b> <br>\n",
    " &nbsp;&nbsp;&nbsp;&nbsp; a) Creating <br>\n",
    " &nbsp;&nbsp;&nbsp;&nbsp; b) Calling <br>\n",
    " &nbsp;&nbsp;&nbsp;&nbsp; c) Modifying an Attribute's Value Through a Method <br>\n",
    " &nbsp;&nbsp;&nbsp;&nbsp; d) Incrementing an Attribute's Value Through a Method <br>\n",
    " &nbsp;&nbsp;&nbsp;&nbsp; e) In-Class Exercise #3 - Add a method that prints the cars color and wheel number, then call them <br>\n",
    "6) <b>Inheritance</b> <br>\n",
    " &nbsp;&nbsp;&nbsp;&nbsp; a) Syntax for Inheriting from a Parent Class <br>\n",
    " &nbsp;&nbsp;&nbsp;&nbsp; b) The \\__init\\__() Method for a Child Class (super()) <br>\n",
    " &nbsp;&nbsp;&nbsp;&nbsp; c) Defining Attributes and Methods for the Child Class <br>\n",
    " &nbsp;&nbsp;&nbsp;&nbsp; d) Method Overriding <br>\n",
    " &nbsp;&nbsp;&nbsp;&nbsp; e) In-Class Exercise #4 - Create a class 'Ford' that inherits from 'Car' class and initialize it as a Blue Ford Explorer with 4 wheels using the super() method <br>\n",
    "7) <b>Classes as Attributes</b> <br>\n",
    "8) <b>Exercises</b> <br>\n",
    " &nbsp;&nbsp;&nbsp;&nbsp; a) Exercise #1 - Turn the shopping cart program from yesterday into an object-oriented program <br>"
   ]
  },
  {
   "cell_type": "code",
   "execution_count": null,
   "metadata": {},
   "outputs": [],
   "source": []
  },
  {
   "cell_type": "markdown",
   "metadata": {},
   "source": [
    "#### Object-Oriented Programming"
   ]
  },
  {
   "cell_type": "markdown",
   "metadata": {},
   "source": [
    "Object-Oriented Programming (OOP) allows us to create programs so that that properties and behaviors are bundled into **objects**. OOP models real-world entities as software objects that have some data associated with them and can perform certain functions."
   ]
  },
  {
   "cell_type": "markdown",
   "metadata": {},
   "source": [
    "## Creating a Class (Initializing/Declaring)\n",
    "<p>When creating a class, function, or even a variable you are initializing that object. Initializing and Declaring occur at the same time in Python, whereas in lower level languages you have to declare an object before initializing it. This is the first step in the process of using a class.</p>"
   ]
  },
  {
   "cell_type": "code",
   "execution_count": 2,
   "metadata": {},
   "outputs": [
    {
     "name": "stdout",
     "output_type": "stream",
     "text": [
      "Help on class Student in module __main__:\n",
      "\n",
      "class Student(builtins.object)\n",
      " |  Data descriptors defined here:\n",
      " |  \n",
      " |  __dict__\n",
      " |      dictionary for instance variables (if defined)\n",
      " |  \n",
      " |  __weakref__\n",
      " |      list of weak references to the object (if defined)\n",
      "\n",
      "{'__module__': '__main__', '__dict__': <attribute '__dict__' of 'Student' objects>, '__weakref__': <attribute '__weakref__' of 'Student' objects>, '__doc__': None}\n"
     ]
    }
   ],
   "source": [
    "# Syntax: class Classname(): or class Classname:  *always capitalize our class names! pep8 guidelines\n",
    "name='Sam'\n",
    "mylist=[1,2,3,4]\n",
    "\n",
    "def my_func(a):\n",
    "    pass\n",
    "\n",
    "class Student():\n",
    "    pass\n",
    "\n",
    "\n",
    "help(Student)\n",
    "print(Student.__dict__)"
   ]
  },
  {
   "cell_type": "markdown",
   "metadata": {},
   "source": [
    "## Using a Class (Instantiating)\n",
    "<p>The process of creating a class is called <i>Instantiating</i>. Each time you create a variable of that type of class, it is referred to as an <i>Instance</i> of that class. This is the second step in the process of using a class.</p>"
   ]
  },
  {
   "cell_type": "code",
   "execution_count": 4,
   "metadata": {},
   "outputs": [
    {
     "name": "stdout",
     "output_type": "stream",
     "text": [
      "140316780356736\n",
      "140316780044160\n"
     ]
    }
   ],
   "source": [
    "a_list = [1, 2, 3, 4]\n",
    "b_list = [6, 7, 8, 9]\n",
    "\n",
    "b_list.append(10)\n",
    "print(id(a_list))\n",
    "print(id(b_list))"
   ]
  },
  {
   "cell_type": "code",
   "execution_count": 5,
   "metadata": {},
   "outputs": [
    {
     "name": "stdout",
     "output_type": "stream",
     "text": [
      "[1, 2, 3, 4]\n",
      "[6, 7, 8, 9, 10]\n"
     ]
    }
   ],
   "source": [
    "print(a_list)\n",
    "print(b_list)"
   ]
  },
  {
   "cell_type": "markdown",
   "metadata": {},
   "source": [
    "##### Creating One Instance"
   ]
  },
  {
   "cell_type": "code",
   "execution_count": 10,
   "metadata": {},
   "outputs": [
    {
     "name": "stdout",
     "output_type": "stream",
     "text": [
      "<__main__.Student object at 0x7f9e0befd6a0>\n"
     ]
    },
    {
     "data": {
      "text/plain": [
       "<__main__.Student at 0x7f9e0befd6a0>"
      ]
     },
     "execution_count": 10,
     "metadata": {},
     "output_type": "execute_result"
    }
   ],
   "source": [
    "# variable = Classname()\n",
    "\n",
    "student_1 = Student()\n",
    "\n",
    "print(student_1)\n",
    "student_1"
   ]
  },
  {
   "cell_type": "markdown",
   "metadata": {},
   "source": [
    "##### Creating Multiple Instances"
   ]
  },
  {
   "cell_type": "code",
   "execution_count": 11,
   "metadata": {},
   "outputs": [
    {
     "name": "stdout",
     "output_type": "stream",
     "text": [
      "<__main__.Student object at 0x7f9e0bd5dbb0>\n",
      "<__main__.Student object at 0x7f9e0bd5d280>\n"
     ]
    }
   ],
   "source": [
    "student_2 = Student()\n",
    "print(student_2)\n",
    "\n",
    "student_3 = Student()\n",
    "print(student_3)"
   ]
  },
  {
   "cell_type": "markdown",
   "metadata": {},
   "source": [
    "##### Adding attributes to instances"
   ]
  },
  {
   "cell_type": "code",
   "execution_count": 12,
   "metadata": {},
   "outputs": [
    {
     "name": "stdout",
     "output_type": "stream",
     "text": [
      "{'first_name': 'John', 'middle_name': 'Jacob', 'last_name': 'Smith'}\n",
      "{'first_name': 'Laura', 'last_name': 'Green'}\n"
     ]
    }
   ],
   "source": [
    "# instance.property = value\n",
    "\n",
    "student_1.first_name = 'John'\n",
    "student_1.middle_name='Jacob'\n",
    "student_1.last_name = 'Smith'\n",
    "\n",
    "student_2.first_name = 'Laura'\n",
    "student_2.last_name = 'Green'\n",
    "\n",
    "print(student_1.__dict__)\n",
    "print(student_2.__dict__)"
   ]
  },
  {
   "cell_type": "code",
   "execution_count": 13,
   "metadata": {},
   "outputs": [
    {
     "name": "stdout",
     "output_type": "stream",
     "text": [
      "John\n",
      "Green\n"
     ]
    }
   ],
   "source": [
    "#access attribute\n",
    "print(student_1.first_name)\n",
    "print(student_2.last_name)"
   ]
  },
  {
   "cell_type": "markdown",
   "metadata": {},
   "source": [
    "##### In-Class Exercise #1 - Create a Class 'Car' and Instantiate three different car instances. Add a different make for each car."
   ]
  },
  {
   "cell_type": "code",
   "execution_count": 24,
   "metadata": {},
   "outputs": [
    {
     "name": "stdout",
     "output_type": "stream",
     "text": [
      "<__main__.Car object at 0x7f9e0be61cd0>\n",
      "Subaru\n",
      "bmw\n",
      "toyota\n"
     ]
    }
   ],
   "source": [
    "class Car():\n",
    "    pass\n",
    "\n",
    "car1=Car()\n",
    "car2=Car()\n",
    "car3=Car()\n",
    "\n",
    "\n",
    "\n",
    "car1.make = 'Subaru'\n",
    "car1.model = 'X'\n",
    "car1.year = '2020'\n",
    "\n",
    "car2.make = 'bmw'\n",
    "car2.model = 'X'\n",
    "car2.year = '2020'\n",
    "\n",
    "car3.make = 'toyota'\n",
    "car3.model = 'X'\n",
    "car3.year = '2020'\n",
    "\n",
    "print(car1.make)\n",
    "print(car2.make)\n",
    "print(car3.make)"
   ]
  },
  {
   "cell_type": "markdown",
   "metadata": {},
   "source": [
    "## The \\__init\\__() Method <br>\n",
    "<p>This method is used in almost every created class, and called only once upon the creation of the class instance. This method will initialize all variables needed for the object.</p>"
   ]
  },
  {
   "cell_type": "markdown",
   "metadata": {},
   "source": [
    "##### The 'self' Attribute <br>\n",
    "<p>This attribute is required to keep track of specific instance's attributes. Without the self attribute, the program would not know how to reference or keep track of an instance's attributes.</p>"
   ]
  },
  {
   "cell_type": "code",
   "execution_count": 26,
   "metadata": {},
   "outputs": [
    {
     "ename": "NameError",
     "evalue": "name 'student_instance' is not defined",
     "output_type": "error",
     "traceback": [
      "\u001b[0;31m---------------------------------------------------------------------------\u001b[0m",
      "\u001b[0;31mNameError\u001b[0m                                 Traceback (most recent call last)",
      "Input \u001b[0;32mIn [26]\u001b[0m, in \u001b[0;36m<cell line: 6>\u001b[0;34m()\u001b[0m\n\u001b[1;32m      4\u001b[0m     student_instance\u001b[38;5;241m.\u001b[39mteacher \u001b[38;5;241m=\u001b[39m teacher\n\u001b[1;32m      5\u001b[0m     \u001b[38;5;28;01mreturn\u001b[39;00m \u001b[38;5;28mself\u001b[39m\n\u001b[0;32m----> 6\u001b[0m newer_student \u001b[38;5;241m=\u001b[39m\u001b[43mcreate_student_like_init\u001b[49m\u001b[43m(\u001b[49m\u001b[43mStudent\u001b[49m\u001b[43m(\u001b[49m\u001b[43m)\u001b[49m\u001b[43m,\u001b[49m\u001b[38;5;124;43m'\u001b[39;49m\u001b[38;5;124;43mSally\u001b[39;49m\u001b[38;5;124;43m'\u001b[39;49m\u001b[43m,\u001b[49m\u001b[38;5;124;43m'\u001b[39;49m\u001b[38;5;124;43mMcDoogle\u001b[39;49m\u001b[38;5;124;43m'\u001b[39;49m\u001b[43m,\u001b[49m\u001b[38;5;124;43m'\u001b[39;49m\u001b[38;5;124;43mMrs.Wormwood\u001b[39;49m\u001b[38;5;124;43m'\u001b[39;49m\u001b[43m)\u001b[49m\n\u001b[1;32m      8\u001b[0m \u001b[38;5;28mprint\u001b[39m(newer_student)\n\u001b[1;32m      9\u001b[0m \u001b[38;5;28mprint\u001b[39m(newer_student\u001b[38;5;241m.\u001b[39mfirst_name)\n",
      "Input \u001b[0;32mIn [26]\u001b[0m, in \u001b[0;36mcreate_student_like_init\u001b[0;34m(self, first, last, teacher)\u001b[0m\n\u001b[1;32m      1\u001b[0m \u001b[38;5;28;01mdef\u001b[39;00m \u001b[38;5;21mcreate_student_like_init\u001b[39m(\u001b[38;5;28mself\u001b[39m, first, last, teacher):\n\u001b[0;32m----> 2\u001b[0m     \u001b[43mstudent_instance\u001b[49m\u001b[38;5;241m.\u001b[39mfirst_name \u001b[38;5;241m=\u001b[39m first\n\u001b[1;32m      3\u001b[0m     student_instance\u001b[38;5;241m.\u001b[39mlast_name \u001b[38;5;241m=\u001b[39m last\n\u001b[1;32m      4\u001b[0m     student_instance\u001b[38;5;241m.\u001b[39mteacher \u001b[38;5;241m=\u001b[39m teacher\n",
      "\u001b[0;31mNameError\u001b[0m: name 'student_instance' is not defined"
     ]
    }
   ],
   "source": [
    "def create_student_like_init(self, first, last, teacher):\n",
    "    student_instance.first_name = first\n",
    "    student_instance.last_name = last\n",
    "    student_instance.teacher = teacher\n",
    "    return self\n",
    "newer_student =create_student_like_init(Student(),'Sally','McDoogle','Mrs.Wormwood')\n",
    "\n",
    "print(newer_student)\n",
    "print(newer_student.first_name)\n",
    "\n",
    "\n"
   ]
  },
  {
   "cell_type": "code",
   "execution_count": 17,
   "metadata": {},
   "outputs": [
    {
     "name": "stdout",
     "output_type": "stream",
     "text": [
      "<__main__.Student object at 0x0000014DCA1116A0>\n"
     ]
    }
   ],
   "source": [
    "\n",
    "new_student = create_student(Student(), 'Jacob', 'McAdams', 'Wormwood')\n",
    "\n",
    "print(new_student)"
   ]
  },
  {
   "cell_type": "code",
   "execution_count": 27,
   "metadata": {},
   "outputs": [
    {
     "name": "stdout",
     "output_type": "stream",
     "text": [
      "<__main__.Student object at 0x7f9e0bf8d6d0>\n"
     ]
    }
   ],
   "source": [
    "class Student:\n",
    "    def __init__(self, first, last, teacher):\n",
    "        self.first_name = first\n",
    "        self.last_name = last\n",
    "        self.teacher = teacher\n",
    "        \n",
    "        \n",
    "newer_student = Student('Jeff', 'Miller', 'Kelly')\n",
    "\n",
    "print(newer_student)"
   ]
  },
  {
   "cell_type": "code",
   "execution_count": 32,
   "metadata": {},
   "outputs": [
    {
     "name": "stdout",
     "output_type": "stream",
     "text": [
      "Frank Butler has been created\n",
      "<__main__.Student object at 0x7f9e0c13fd90>\n",
      "{'first_name': 'Frank', 'last_name': 'Butler', 'teacher': 'Ms Kelly', 'full_name': 'Frank Butler'}\n"
     ]
    }
   ],
   "source": [
    "class Student:\n",
    "    def __init__(self,first, last,teacher):\n",
    "        self.first_name=first\n",
    "        self.last_name=last\n",
    "        self.teacher=teacher\n",
    "        self.full_name=first+' '+last\n",
    "        print(f\"{self.full_name} has been created\")\n",
    "newest_student=Student('Frank','Butler','Ms Kelly' )\n",
    "print(newest_student)\n",
    "print(newest_student.__dict__)"
   ]
  },
  {
   "cell_type": "code",
   "execution_count": 38,
   "metadata": {},
   "outputs": [
    {
     "name": "stdout",
     "output_type": "stream",
     "text": [
      "{'color': 'red', 'make': 'Chevrolet'}\n"
     ]
    }
   ],
   "source": [
    "class Truck:\n",
    "    wheels=4 #Class attribute\n",
    "    \n",
    "    def __init__(self,color,make):\n",
    "        self.color=color #Instance Attrubute\n",
    "        self.make=make #Instance attribute\n",
    "        \n",
    "truck1= Truck('red','Chevrolet')\n",
    "truck2= Truck('blue','Ford')\n",
    "\n",
    "print(truck1.__dict__)"
   ]
  },
  {
   "cell_type": "code",
   "execution_count": 40,
   "metadata": {},
   "outputs": [
    {
     "name": "stdout",
     "output_type": "stream",
     "text": [
      "red\n",
      "Chevrolet\n",
      "4\n"
     ]
    }
   ],
   "source": [
    "print(truck1.color)\n",
    "print(truck1.make)\n",
    "print(truck1.wheels)"
   ]
  },
  {
   "cell_type": "code",
   "execution_count": null,
   "metadata": {},
   "outputs": [],
   "source": [
    "#accessing class attribu"
   ]
  },
  {
   "cell_type": "markdown",
   "metadata": {},
   "source": [
    "## Class Attributes <br>\n",
    "<p>While variables are inside of a class, they are referred to as attributes and not variables. When someone says 'attribute' you know they're speaking about a class. Attributes can be initialized through the init method, or outside of it.</p>"
   ]
  },
  {
   "cell_type": "markdown",
   "metadata": {},
   "source": [
    "##### Initializing Attributes"
   ]
  },
  {
   "cell_type": "code",
   "execution_count": 19,
   "metadata": {},
   "outputs": [],
   "source": [
    "class Truck:\n",
    "    wheels = 4 # Class attribute\n",
    "    def __init__(self, color, make):\n",
    "        self.color = color # instance attribute(s)\n",
    "        self.make = make\n",
    "        \n",
    "        \n",
    "truck1 = Truck('blue', 'Ford')\n",
    "truck2 = Truck('red', 'Chevy')"
   ]
  },
  {
   "cell_type": "markdown",
   "metadata": {},
   "source": [
    "##### Accessing Class Attributes"
   ]
  },
  {
   "cell_type": "code",
   "execution_count": null,
   "metadata": {
    "scrolled": true
   },
   "outputs": [],
   "source": [
    "# See Above"
   ]
  },
  {
   "cell_type": "markdown",
   "metadata": {},
   "source": [
    "##### Setting Defaults for Attributes"
   ]
  },
  {
   "cell_type": "code",
   "execution_count": 20,
   "metadata": {},
   "outputs": [],
   "source": [
    "class Bike():\n",
    "    \n",
    "    def __init__(self, color, brand='Schwinn'):\n",
    "        self.color = color\n",
    "        self.brand = brand\n",
    "        self.wheels = 2\n",
    "        \n",
    "        \n",
    "my_bike = Bike('blue')\n",
    "your_bike = Bike('red', 'Giant')"
   ]
  },
  {
   "cell_type": "markdown",
   "metadata": {},
   "source": [
    "##### Changing Class Attributes <br>\n",
    "<p>Keep in mind there are global class attributes and then there are attributes only available to each class instance which won't effect other classes.</p>"
   ]
  },
  {
   "cell_type": "code",
   "execution_count": 21,
   "metadata": {},
   "outputs": [],
   "source": [
    "class Truck():\n",
    "    wheels = 4 # Class attribute\n",
    "    \n",
    "    def __init__(self, color, make):\n",
    "        self.color = color # instance attributes\n",
    "        self.make = make #instance attributes"
   ]
  },
  {
   "cell_type": "code",
   "execution_count": 41,
   "metadata": {},
   "outputs": [],
   "source": [
    "truck1 = Truck('black', 'Ford')\n",
    "truck2 = Truck('white', 'GM')\n",
    "\n",
    "(truck1.wheels)\n"
   ]
  },
  {
   "cell_type": "code",
   "execution_count": 23,
   "metadata": {},
   "outputs": [
    {
     "name": "stdout",
     "output_type": "stream",
     "text": [
      "4\n",
      "4\n",
      "\n",
      "16\n",
      "4\n",
      "\n",
      "16\n",
      "24\n",
      "\n",
      "truck1: {'color': 'black', 'make': 'Ford', 'wheels': 16}\n",
      "truck2: {'color': 'white', 'make': 'GM'}\n",
      "Truck Class: {'__module__': '__main__', 'wheels': 24, '__init__': <function Truck.__init__ at 0x0000014DCA1DCC10>, '__dict__': <attribute '__dict__' of 'Truck' objects>, '__weakref__': <attribute '__weakref__' of 'Truck' objects>, '__doc__': None}\n"
     ]
    }
   ],
   "source": [
    "print(truck1.wheels)\n",
    "print(truck2.wheels)\n",
    "print()\n",
    "truck1.wheels = 16 # Sets an Instance Attribute on truck1\n",
    "print(truck1.wheels)\n",
    "print(truck2.wheels)\n",
    "print()\n",
    "Truck.wheels = 24 # Changes the Class attribute on Truck\n",
    "print(truck1.wheels)\n",
    "print(truck2.wheels)\n",
    "print()\n",
    "print(\"truck1:\",truck1.__dict__)\n",
    "print(\"truck2:\",truck2.__dict__)\n",
    "print(\"Truck Class:\",Truck.__dict__)"
   ]
  },
  {
   "cell_type": "markdown",
   "metadata": {},
   "source": [
    "##### In-Class Exercise 2 - Create an \\__init__ method for your Car class which takes in color and model with a default value for gas_level of 100. Your class should also have a class attribute for model. Once you have created the class, instantiate 3 different cars"
   ]
  },
  {
   "cell_type": "code",
   "execution_count": 58,
   "metadata": {},
   "outputs": [
    {
     "name": "stdout",
     "output_type": "stream",
     "text": [
      "{'color': 'blue', 'model': 'civic', 'gas': 'gas level of 100'}\n",
      "{'color': 'red', 'model': 'crv', 'gas': 'gas level of 100'}\n",
      "{'color': 'blue', 'model': 'pilot', 'gas': 'gas level of 100'}\n"
     ]
    }
   ],
   "source": [
    "class Car():\n",
    "    \n",
    "    \n",
    "    make='honda'\n",
    "    \n",
    "    \n",
    "    def __init__(self, color, model,gas=\"gas level of 100\"):\n",
    "        self.color = color\n",
    "        self.model = model\n",
    "        self.gas=gas\n",
    "        \n",
    "\n",
    "car1=Car('blue','civic')\n",
    "car2=Car('red','crv')\n",
    "car3=Car('blue','pilot')\n",
    "print(car1.__dict__)\n",
    "print(car2.__dict__)\n",
    "print(car3.__dict__)\n"
   ]
  },
  {
   "cell_type": "markdown",
   "metadata": {},
   "source": [
    "## Class Methods <br>\n",
    "<p>While inside of a class, functions are referred to as 'methods'. If you hear someone mention methods, they're speaking about classes. Methods are essentially functions, but only callable on the instances of a class.</p>"
   ]
  },
  {
   "cell_type": "code",
   "execution_count": 59,
   "metadata": {},
   "outputs": [
    {
     "name": "stdout",
     "output_type": "stream",
     "text": [
      "Help on method_descriptor:\n",
      "\n",
      "append(self, object, /)\n",
      "    Append object to the end of the list.\n",
      "\n"
     ]
    }
   ],
   "source": [
    "help(list.append)"
   ]
  },
  {
   "cell_type": "code",
   "execution_count": null,
   "metadata": {},
   "outputs": [],
   "source": []
  },
  {
   "cell_type": "code",
   "execution_count": null,
   "metadata": {},
   "outputs": [],
   "source": []
  },
  {
   "cell_type": "code",
   "execution_count": null,
   "metadata": {},
   "outputs": [],
   "source": []
  },
  {
   "cell_type": "code",
   "execution_count": 61,
   "metadata": {},
   "outputs": [
    {
     "ename": "AttributeError",
     "evalue": "'tuple' object has no attribute 'append'",
     "output_type": "error",
     "traceback": [
      "\u001b[0;31m---------------------------------------------------------------------------\u001b[0m",
      "\u001b[0;31mAttributeError\u001b[0m                            Traceback (most recent call last)",
      "Input \u001b[0;32mIn [61]\u001b[0m, in \u001b[0;36m<cell line: 2>\u001b[0;34m()\u001b[0m\n\u001b[1;32m      1\u001b[0m tuple_123\u001b[38;5;241m=\u001b[39m(\u001b[38;5;241m1\u001b[39m,\u001b[38;5;241m2\u001b[39m,\u001b[38;5;241m3\u001b[39m)\n\u001b[0;32m----> 2\u001b[0m \u001b[43mtuple_123\u001b[49m\u001b[38;5;241;43m.\u001b[39;49m\u001b[43mappend\u001b[49m(\u001b[38;5;124m\"\u001b[39m\u001b[38;5;124mhello\u001b[39m\u001b[38;5;124m\"\u001b[39m)\n\u001b[1;32m      3\u001b[0m \u001b[38;5;28mprint\u001b[39m(tuple_123\n\u001b[1;32m      4\u001b[0m      )\n",
      "\u001b[0;31mAttributeError\u001b[0m: 'tuple' object has no attribute 'append'"
     ]
    }
   ],
   "source": [
    "tuple_123=(1,2,3)\n",
    "tuple_123.append(\"hello\")\n",
    "print(tuple_123\n",
    "     )"
   ]
  },
  {
   "cell_type": "code",
   "execution_count": 60,
   "metadata": {},
   "outputs": [
    {
     "name": "stdout",
     "output_type": "stream",
     "text": [
      "[1, 2, 3, 'hello']\n"
     ]
    }
   ],
   "source": [
    "list_123=[1,2,3]\n",
    "list_123.append(\"hello\")\n",
    "print(list_123\n",
    "     )"
   ]
  },
  {
   "cell_type": "markdown",
   "metadata": {},
   "source": [
    "##### Creating"
   ]
  },
  {
   "cell_type": "code",
   "execution_count": 72,
   "metadata": {},
   "outputs": [],
   "source": [
    "#Syntax:class ClassName:\n",
    "#      def method_name(self,....):\n",
    "            #code to run when executed\n",
    "\n",
    "\n",
    "class Employee():\n",
    "    raise_amount=1.05\n",
    "    \n",
    "    def __init__(self, first, last, salary):\n",
    "        self.first_name = first.title()\n",
    "        self.last_name = last.title()\n",
    "        self.salary = salary\n",
    "        self.email = first.lower() + \".\" + last.lower() + \"@company.org\"\n",
    "        \n",
    "    def get_full_name(self):\n",
    "        return self.first_name+' '+self.last_name\n",
    "    \n",
    "    def change_last_name(self, new_last_name):\n",
    "        self.last_name = new_last_name\n",
    "        self.email = self.first_name() + \".\" + last_name() + \"@company.org\"\n",
    "    def apply_raise:\n",
    "        self_salary *=self.raise.amount\n",
    "        print(f\"Congrats{self.get_full_name()}, you have recieved a raise and your new salary)\n",
    "        \n",
    "emp_1=Employee('Charlie','Bucket','100000')\n",
    "emp_2=Employee('Veruca','Salt','500000')\n",
    "        \n",
    "   \n",
    "    \n",
    "    \n",
    "    "
   ]
  },
  {
   "cell_type": "code",
   "execution_count": 74,
   "metadata": {},
   "outputs": [
    {
     "data": {
      "text/plain": [
       "'Veruca Salt'"
      ]
     },
     "execution_count": 74,
     "metadata": {},
     "output_type": "execute_result"
    }
   ],
   "source": [
    "def get_full_name(employee_instance):\n",
    "        return employee_instance.first_name+' '+employee_instance.last_name\n",
    "get_full_name(emp_1)\n",
    "get_full_name(emp_2)"
   ]
  },
  {
   "cell_type": "code",
   "execution_count": null,
   "metadata": {},
   "outputs": [],
   "source": [
    "def full_name(self):\n",
    "        return f'{self.first} {self.last}'\n",
    "    \n",
    "    def apply_raise(self):\n",
    "        self.salary = int(self.salary * self.raise_amount)\n",
    "        \n",
    "    def change_last_name(self, last):\n",
    "        self.last = last\n",
    "        self.email = self.first + \".\" + last + \"@company.org\"\n",
    "        \n",
    "    def add_health_benefits(self, provider):\n",
    "        self.insurance = provider\n",
    "    \n",
    "    \n",
    "emp_3 = Employee('Leo', 'Messi', 50000)\n",
    "emp_4 = Employee('Sergio', 'Aguero', 100000)"
   ]
  },
  {
   "cell_type": "code",
   "execution_count": null,
   "metadata": {},
   "outputs": [],
   "source": [
    "\n"
   ]
  },
  {
   "cell_type": "code",
   "execution_count": 25,
   "metadata": {},
   "outputs": [
    {
     "data": {
      "text/plain": [
       "'Leo.Messi@company.org'"
      ]
     },
     "execution_count": 25,
     "metadata": {},
     "output_type": "execute_result"
    }
   ],
   "source": [
    "emp_1.email"
   ]
  },
  {
   "cell_type": "markdown",
   "metadata": {},
   "source": [
    "##### Calling"
   ]
  },
  {
   "cell_type": "code",
   "execution_count": 77,
   "metadata": {},
   "outputs": [
    {
     "data": {
      "text/plain": [
       "'Charlie Bucket'"
      ]
     },
     "execution_count": 77,
     "metadata": {},
     "output_type": "execute_result"
    }
   ],
   "source": [
    "# See Above instance var.method_name( OR INSTANCE_VAR.METHOD_NAME(ARG1))\n",
    "emp_1.get_full_name()\n"
   ]
  },
  {
   "cell_type": "code",
   "execution_count": 79,
   "metadata": {},
   "outputs": [
    {
     "data": {
      "text/plain": [
       "'Veruca Salt'"
      ]
     },
     "execution_count": 79,
     "metadata": {},
     "output_type": "execute_result"
    }
   ],
   "source": [
    "emp_2.get_full_name()"
   ]
  },
  {
   "cell_type": "code",
   "execution_count": null,
   "metadata": {},
   "outputs": [],
   "source": []
  },
  {
   "cell_type": "code",
   "execution_count": null,
   "metadata": {},
   "outputs": [],
   "source": []
  },
  {
   "cell_type": "code",
   "execution_count": null,
   "metadata": {},
   "outputs": [],
   "source": []
  },
  {
   "cell_type": "code",
   "execution_count": null,
   "metadata": {},
   "outputs": [],
   "source": []
  },
  {
   "cell_type": "markdown",
   "metadata": {},
   "source": [
    "##### Modifying an Attribute's Value Through a Method"
   ]
  },
  {
   "cell_type": "code",
   "execution_count": null,
   "metadata": {},
   "outputs": [],
   "source": []
  },
  {
   "cell_type": "code",
   "execution_count": null,
   "metadata": {},
   "outputs": [],
   "source": []
  },
  {
   "cell_type": "code",
   "execution_count": 27,
   "metadata": {},
   "outputs": [
    {
     "name": "stdout",
     "output_type": "stream",
     "text": [
      "{'first': 'Leo', 'last': 'Messi', 'salary': 50000, 'email': 'Leo.Messi@company.org'}\n",
      "{'first': 'Leo', 'last': 'Stanton', 'salary': 50000, 'email': 'Leo.Stanton@company.org'}\n"
     ]
    }
   ],
   "source": [
    "print(emp_1.__dict__)\n",
    "emp_1.change_last_name('Stanton')\n",
    "print(emp_1.__dict__)"
   ]
  },
  {
   "cell_type": "code",
   "execution_count": 28,
   "metadata": {},
   "outputs": [
    {
     "name": "stdout",
     "output_type": "stream",
     "text": [
      "Sergio Aguero\n",
      "Sergio Smith\n"
     ]
    }
   ],
   "source": [
    "print(emp_2.full_name())\n",
    "Employee.change_last_name(emp_2, 'Smith')\n",
    "print(emp_2.full_name())"
   ]
  },
  {
   "cell_type": "markdown",
   "metadata": {},
   "source": [
    "##### Incrementing an Attribute's Value Through a Method"
   ]
  },
  {
   "cell_type": "code",
   "execution_count": 82,
   "metadata": {},
   "outputs": [
    {
     "name": "stdout",
     "output_type": "stream",
     "text": [
      "500000\n"
     ]
    },
    {
     "ename": "AttributeError",
     "evalue": "'Employee' object has no attribute 'raise_amount'",
     "output_type": "error",
     "traceback": [
      "\u001b[0;31m---------------------------------------------------------------------------\u001b[0m",
      "\u001b[0;31mAttributeError\u001b[0m                            Traceback (most recent call last)",
      "Input \u001b[0;32mIn [82]\u001b[0m, in \u001b[0;36m<cell line: 2>\u001b[0;34m()\u001b[0m\n\u001b[1;32m      1\u001b[0m \u001b[38;5;28mprint\u001b[39m(emp_2\u001b[38;5;241m.\u001b[39msalary)\n\u001b[0;32m----> 2\u001b[0m \u001b[43memp_2\u001b[49m\u001b[38;5;241;43m.\u001b[39;49m\u001b[43mraise_amount\u001b[49m()\n\u001b[1;32m      3\u001b[0m \u001b[38;5;28mprint\u001b[39m(emp_2\u001b[38;5;241m.\u001b[39msalary)\n\u001b[1;32m      4\u001b[0m emp_2\u001b[38;5;241m.\u001b[39mraise_amount()\n",
      "\u001b[0;31mAttributeError\u001b[0m: 'Employee' object has no attribute 'raise_amount'"
     ]
    }
   ],
   "source": [
    "print(emp_2.salary)\n",
    "emp_2.raise_amount()\n",
    "print(emp_2.salary)\n",
    "emp_2.raise_amount()\n",
    "print(emp_2.salary)"
   ]
  },
  {
   "cell_type": "markdown",
   "metadata": {},
   "source": [
    "##### In-Class Exercise #3 - Add two methods to your car class. One method called `drive` that will take in the number of miles and decrease that car's `gas_level` by 1 unit for every 5 miles. Another method called `fill_up` will take in gallons and increase the `gas_level` by 10 units for every gallon."
   ]
  },
  {
   "cell_type": "code",
   "execution_count": 89,
   "metadata": {},
   "outputs": [
    {
     "name": "stdout",
     "output_type": "stream",
     "text": [
      "The blue civic now has a gas level of 80\n",
      "The blue civic now has a gas level of 130\n"
     ]
    }
   ],
   "source": [
    "class Car():\n",
    "    \n",
    "    \n",
    "    make='honda'\n",
    "    \n",
    "    \n",
    "    \n",
    "    def __init__(self, color, model,gas_level=100):\n",
    "        self.color = color\n",
    "        self.model = model\n",
    "        self.gas_level=gas_level\n",
    "   \n",
    "    \n",
    "        \n",
    "    def drive(self,num_miles_driven):\n",
    "        unit_decrease=num_miles_driven //5\n",
    "        \n",
    "        self.gas_level-=unit_decrease #self.gas_level = self.gas_level-unit_decrease\n",
    "        print(f\"The {self.color} {self.model} now has a gas level of {self.gas_level}\")\n",
    "        \n",
    "        \n",
    "    def fill_up(self,gallons):\n",
    "        unit_increase=gallons*10\n",
    "        self.gas_level += unit_increase\n",
    "        print(f\"The {self.color} {self.model} now has a gas level of {self.gas_level}\")\n",
    "        \n",
    "\n",
    "car1=Car('blue','civic')\n",
    "car2=Car('red','crv')\n",
    "car3=Car('blue','pilot')\n",
    "\n",
    "car1.drive(100) #gas lvl should decrese by 20\n",
    "car1.fill_up(5\n",
    "            )"
   ]
  },
  {
   "cell_type": "markdown",
   "metadata": {},
   "source": [
    "## Classes as Attributes <br>\n",
    "<p>Classes can also be used as attributes within another class. This is useful in situations where you need to keep variables locally stored, instead of globally stored.</p>"
   ]
  },
  {
   "cell_type": "code",
   "execution_count": 39,
   "metadata": {},
   "outputs": [],
   "source": [
    "class Album:\n",
    "    company = 'Apple Records'\n",
    "    \n",
    "    def __init__(self, title, artist, release_year, song_list=[]):\n",
    "        self.title = title.title()\n",
    "        self.artist = artist.title()\n",
    "        self.release_year = release_year\n",
    "        self.song_list = song_list\n",
    "        \n",
    "    def add_song(self, song):\n",
    "        self.song_list.append(song)\n",
    "        print(f'{song.title} has been added to the album at position {len(self.song_list)}')\n",
    "        \n",
    "        \n",
    "    def play_album(self):\n",
    "        for song in self.song_list:\n",
    "            print(f'playing {song.title} for the next {song.length}')\n",
    "            \n",
    "        \n",
    "        \n",
    "class Song:\n",
    "    \n",
    "    def __init__(self, title, artist, release_year, song_list=[]):\n",
    "        self.title = title\n",
    "        self.artist = artist\n",
    "        self.release_year = release_year\n",
    "        self.song_list= song_list\n",
    "        \n",
    "    def add_song(self, song):\n",
    "        self.song_list.append(song)\n",
    "        print(f\"{song.name} has been address to the album at position # {len(self.song_list)}\")\n",
    "\n",
    "\n",
    "        \n",
    "        \n",
    "abbey_road = Album('Abbey Road', 'The Beatles', 1969)\n",
    "song1 = Song('Come Together', '4:19')\n",
    "song2 = Song('Something', '3:02')\n",
    "song3 = Song(\"Maxwell's Silver Hammer\", '3:27')"
   ]
  },
  {
   "cell_type": "code",
   "execution_count": 40,
   "metadata": {},
   "outputs": [
    {
     "name": "stdout",
     "output_type": "stream",
     "text": [
      "Come Together has been added to the album at position 1\n",
      "Something has been added to the album at position 2\n",
      "Maxwell's Silver Hammer has been added to the album at position 3\n"
     ]
    }
   ],
   "source": [
    "abbey_road.add_song(song1)\n",
    "abbey_road.add_song(song2)\n",
    "abbey_road.add_song(song3)"
   ]
  },
  {
   "cell_type": "code",
   "execution_count": 41,
   "metadata": {},
   "outputs": [
    {
     "name": "stdout",
     "output_type": "stream",
     "text": [
      "playing Come Together for the next 4:19\n",
      "playing Something for the next 3:02\n",
      "playing Maxwell's Silver Hammer for the next 3:27\n"
     ]
    }
   ],
   "source": [
    "abbey_road.play_album()"
   ]
  },
  {
   "cell_type": "markdown",
   "metadata": {},
   "source": [
    "# Exercises"
   ]
  },
  {
   "cell_type": "markdown",
   "metadata": {},
   "source": [
    "### Exercise 1 - Turn the shopping cart program into an object-oriented program"
   ]
  },
  {
   "cell_type": "code",
   "execution_count": 13,
   "metadata": {},
   "outputs": [
    {
     "name": "stdout",
     "output_type": "stream",
     "text": [
      "What would you like to do? Add/Remove/Show/Clear/Quitadd\n",
      "What is the name of the item you are adding?banana\n"
     ]
    },
    {
     "ename": "NameError",
     "evalue": "name 'item' is not defined",
     "output_type": "error",
     "traceback": [
      "\u001b[0;31m---------------------------------------------------------------------------\u001b[0m",
      "\u001b[0;31mNameError\u001b[0m                                 Traceback (most recent call last)",
      "Input \u001b[0;32mIn [13]\u001b[0m, in \u001b[0;36m<cell line: 45>\u001b[0;34m()\u001b[0m\n\u001b[1;32m     40\u001b[0m             item_to_add\u001b[38;5;241m=\u001b[39mItem(item_name,item_quantity,item_price)\n\u001b[1;32m     41\u001b[0m             my_cart\u001b[38;5;241m.\u001b[39madd_to_cart(item_to_add)\n\u001b[0;32m---> 45\u001b[0m \u001b[43mmain\u001b[49m\u001b[43m(\u001b[49m\u001b[43m)\u001b[49m\n",
      "Input \u001b[0;32mIn [13]\u001b[0m, in \u001b[0;36mmain\u001b[0;34m()\u001b[0m\n\u001b[1;32m     36\u001b[0m \u001b[38;5;28;01melif\u001b[39;00m to_do \u001b[38;5;241m==\u001b[39m\u001b[38;5;124m'\u001b[39m\u001b[38;5;124madd\u001b[39m\u001b[38;5;124m'\u001b[39m:\n\u001b[1;32m     37\u001b[0m     item_name\u001b[38;5;241m=\u001b[39m\u001b[38;5;28minput\u001b[39m(\u001b[38;5;124m'\u001b[39m\u001b[38;5;124mWhat is the name of the item you are adding?\u001b[39m\u001b[38;5;124m'\u001b[39m)\n\u001b[0;32m---> 38\u001b[0m     item_quantity\u001b[38;5;241m=\u001b[39m\u001b[38;5;28mint\u001b[39m(\u001b[38;5;28minput\u001b[39m(\u001b[38;5;124mf\u001b[39m\u001b[38;5;124m\"\u001b[39m\u001b[38;5;124mHow many \u001b[39m\u001b[38;5;132;01m{\u001b[39;00mitem\u001b[38;5;241m.\u001b[39mname\u001b[38;5;241m.\u001b[39mlower()\u001b[38;5;132;01m}\u001b[39;00m\u001b[38;5;124m are you adding?\u001b[39m\u001b[38;5;124m\"\u001b[39m))\n\u001b[1;32m     39\u001b[0m     item_price\u001b[38;5;241m=\u001b[39m\u001b[38;5;28mfloat\u001b[39m(\u001b[38;5;28minput\u001b[39m(\u001b[38;5;124mf\u001b[39m\u001b[38;5;124m\"\u001b[39m\u001b[38;5;124mWhat is the price of \u001b[39m\u001b[38;5;132;01m{\u001b[39;00mitem\u001b[38;5;241m.\u001b[39mname\u001b[38;5;132;01m}\u001b[39;00m\u001b[38;5;124m?\u001b[39m\u001b[38;5;124m\"\u001b[39m))\n\u001b[1;32m     40\u001b[0m     item_to_add\u001b[38;5;241m=\u001b[39mItem(item_name,item_quantity,item_price)\n",
      "\u001b[0;31mNameError\u001b[0m: name 'item' is not defined"
     ]
    }
   ],
   "source": [
    "class Cart:\n",
    "    \n",
    "    def __init__(self):\n",
    "        self.products =[]\n",
    "    \n",
    "    def add_to_cart(self,item):\n",
    "        self.products.append(item)\n",
    "        print(f\"{item.quantity} {item.name}(s) have been added to your cart\")\n",
    "        \n",
    "    def show_cart(self):\n",
    "        for item in self.products:\n",
    "            print(f\"{item.name.title()} {item.quantity}x ${item.price:.2f}\")\n",
    "            \n",
    "    def get_cart_total(self):\n",
    "        total=0\n",
    "        for item in seld.products:\n",
    "            total+=item.get_total()\n",
    "        return\n",
    "    \n",
    "class Item:\n",
    "    def __init__(self, name, quantity, price):\n",
    "        self.name = name\n",
    "        self.price = price\n",
    "        self.quantity = quantity\n",
    "\n",
    "def main():\n",
    "    #Create an instance of our cart\n",
    "    my_cart = Cart()\n",
    "    #Continue looping until the user quits\n",
    "    \n",
    "    while True:\n",
    "        to_do = input (\"What would you like to do? Add/Remove/Show/Clear/Quit\").lower()\n",
    "        if to_do =='quit':\n",
    "            break\n",
    "            \n",
    "        elif to_do =='add':\n",
    "            item_name=input('What is the name of the item you are adding?')\n",
    "            item_quantity=int(input(f\"How many {item.name.lower()} are you adding?\"))\n",
    "            item_price=float(input(f\"What is the price of {item.name}?\"))\n",
    "            item_to_add=Item(item_name,item_quantity,item_price)\n",
    "            my_cart.add_to_cart(item_to_add)\n",
    "   \n",
    "        \n",
    "\n",
    "main()\n",
    "\n",
    "            \n",
    "        \n",
    "    \n",
    "     \n",
    "    \n",
    "    \n",
    "    \n",
    "    \n",
    "    \n",
    "    \n",
    "    \n",
    "    "
   ]
  },
  {
   "cell_type": "code",
   "execution_count": 16,
   "metadata": {},
   "outputs": [
    {
     "name": "stdout",
     "output_type": "stream",
     "text": [
      "1. Show cart items 2. Add an item to the cart 3. Remove a item from the cart 4. Checkout 5. Exit\n",
      "Enter your choice: 1\n"
     ]
    },
    {
     "ename": "NameError",
     "evalue": "name 'my_cart_items' is not defined",
     "output_type": "error",
     "traceback": [
      "\u001b[0;31m---------------------------------------------------------------------------\u001b[0m",
      "\u001b[0;31mNameError\u001b[0m                                 Traceback (most recent call last)",
      "Input \u001b[0;32mIn [16]\u001b[0m, in \u001b[0;36m<cell line: 95>\u001b[0;34m()\u001b[0m\n\u001b[1;32m     92\u001b[0m             \u001b[38;5;28mprint\u001b[39m(\u001b[38;5;124mf\u001b[39m\u001b[38;5;124m\"\u001b[39m\u001b[38;5;124mYour total: %.2f$\u001b[39m\u001b[38;5;124m\"\u001b[39m \u001b[38;5;241m%\u001b[39m(total))\n\u001b[1;32m     93\u001b[0m     \u001b[38;5;28mprint\u001b[39m(my_cart\u001b[38;5;241m.\u001b[39mproducts)\n\u001b[0;32m---> 95\u001b[0m \u001b[43mmain\u001b[49m\u001b[43m(\u001b[49m\u001b[43m)\u001b[49m\n",
      "Input \u001b[0;32mIn [16]\u001b[0m, in \u001b[0;36mmain\u001b[0;34m()\u001b[0m\n\u001b[1;32m     70\u001b[0m     \u001b[38;5;28mprint\u001b[39m(\u001b[38;5;124m\"\u001b[39m\u001b[38;5;124mThank you, please come back and shop with us again!!\u001b[39m\u001b[38;5;124m\"\u001b[39m)\n\u001b[1;32m     72\u001b[0m \u001b[38;5;28;01melif\u001b[39;00m choice \u001b[38;5;241m==\u001b[39m \u001b[38;5;241m1\u001b[39m:\n\u001b[0;32m---> 73\u001b[0m     \u001b[43mmy_cart_items\u001b[49m()\n\u001b[1;32m     74\u001b[0m \u001b[38;5;28;01melif\u001b[39;00m choice \u001b[38;5;241m==\u001b[39m \u001b[38;5;241m2\u001b[39m:\n\u001b[1;32m     75\u001b[0m     item\u001b[38;5;241m=\u001b[39m\u001b[38;5;28minput\u001b[39m(\u001b[38;5;124m\"\u001b[39m\u001b[38;5;124mType the item you want to add to cart:\u001b[39m\u001b[38;5;124m\"\u001b[39m)\n",
      "\u001b[0;31mNameError\u001b[0m: name 'my_cart_items' is not defined"
     ]
    }
   ],
   "source": [
    "# Create a class called cart that retains items and has methods to add, remove, and show\n",
    "\n",
    "\n",
    "class Cart:\n",
    "    def __init__(self):\n",
    "        self.products = []\n",
    "        \n",
    "    def addcart(self,item):\n",
    "        self.products.append(item)\n",
    "        print(f\"{item.quantity} {item.name} have been added to your cart.\")\n",
    "        \n",
    "    def show_cart(self):\n",
    "        if not self.product:\n",
    "            print(\"Your cart is currently empty.\")\n",
    "        for item in self.products:\n",
    "            print(f\"{item.name.title()} {item.quantity} x ${item.price:.2f}\")\n",
    "            print(f\"TOTAL: ${self.getTotal():.2f}\")\n",
    "    \n",
    "    \n",
    "    def remove(self, item):\n",
    "        self.products.remove(item)\n",
    "        \n",
    "    \n",
    "    def getTotal(self):\n",
    "        total = 0\n",
    "        for item in self.product:\n",
    "            total+=item.gettotal()\n",
    "        return total\n",
    "    \n",
    "    def remove(self):\n",
    "        item_to_remove=input('What item would you like to be removed').lower()\n",
    "        if item_to_remove not in{item.name for item in self.products}:\n",
    "            print(f\"{item_to_remove.title()} is not in cart\")\n",
    "    \n",
    "    \n",
    "class Item:\n",
    "    def __init__(self, name, quantity, price):\n",
    "        self.item_name = name\n",
    "        self.item_quantity = quantity\n",
    "        self.item_price=price\n",
    "    def getQuantity(self):\n",
    "        return self.quantity\n",
    "    def getPrice(self):\n",
    "        return self.price\n",
    "    def getName(self):\n",
    "        return self.name\n",
    "    def gettotal(self):\n",
    "        return self.price*self.quantity\n",
    "    \n",
    "        \n",
    "    \n",
    "        \n",
    "    \n",
    "\n",
    "\n",
    "            \n",
    "            \n",
    "            \n",
    "            \n",
    "def main():\n",
    "    my_cart = Cart()\n",
    "\n",
    "\n",
    "\n",
    "    choice = 1\n",
    "    while choice!=5:\n",
    "        print(\"1. Show cart items 2. Add an item to the cart 3. Remove a item from the cart 4. Checkout 5. Exit\")\n",
    "        choice = int(input(\"Enter your choice: \"))\n",
    "        if choice==5:\n",
    "            print(\"Thank you, please come back and shop with us again!!\")\n",
    "\n",
    "        elif choice == 1:\n",
    "            my_cart_items()\n",
    "        elif choice == 2:\n",
    "            item=input(\"Type the item you want to add to cart:\")\n",
    "            quantity=int(input(\"Type the quantity of item you want to add to cart:\"))\n",
    "            price=int(input(\"Enter the price per quantity:\"))\n",
    "            addeditem=Item(item_name, item_quantity, item_price)\n",
    "            my_cart.addcart(addeditem)\n",
    "        \n",
    "        \n",
    "        #name = input(\"Enter the item name: \")\n",
    "        #quantity = int(input(\"Enter the quantity: \"))\n",
    "        #price=int(input(\"Enter unit price: \"))\n",
    "        #new_item = Item(name, quantity, price)\n",
    "        \n",
    "        elif choice == 3:\n",
    "            name = input(\"Enter the name of the item to remove from cart: \")\n",
    "            my_cart.removeItem(name)\n",
    "        elif choice == 4:\n",
    "            total = my_cart.getTotal()\n",
    "            print(f\"Your total: %.2f$\" %(total))\n",
    "    print(my_cart.products)\n",
    "        \n",
    "main()\n",
    "    "
   ]
  },
  {
   "cell_type": "markdown",
   "metadata": {},
   "source": [
    "##### "
   ]
  },
  {
   "cell_type": "markdown",
   "metadata": {},
   "source": [
    "### Exercise 2 - Write a Python class for an Animal that has a name and energy attributes. The animal class should also have methods for eat, sleep, and play that will take in an integer and increase/decrease the energy of the animal with a formatted print statement"
   ]
  },
  {
   "cell_type": "code",
   "execution_count": null,
   "metadata": {},
   "outputs": [
    {
     "name": "stdout",
     "output_type": "stream",
     "text": [
      "Buddy is playing for 5. His energy is now 5\n",
      "Buddy is sleeping for 10. His energy is now 20\n",
      "Buddy is eating 10 count. His energy is now 30\n"
     ]
    }
   ],
   "source": [
    "# Example 1\n",
    "#buddy = Animal('Buddy', 10)\n",
    "#buddy.play(5) -> \"Buddy is playing for 5 minutes. His energy is now 5\"\n",
    "#buddy.sleep(10) -> \"Buddy is sleeping for 5 minutes. His energy is now 15\"\n",
    "\n",
    "\n",
    "class Animal:\n",
    "    \n",
    "    \n",
    "    def __init__(self, name, energy_level):\n",
    "        self.name = name\n",
    "        self.energy_level = energy_level\n",
    "        \n",
    "    def eat(self, food_eaten):\n",
    "        unit_increase = food_eaten // 1\n",
    "        self.energy_level += unit_increase # self.energy_level = self.energy_level - unit_decrease\n",
    "        print(f\"{self.name} is eating {food_eaten} count. His energy is now {self.energy_level}\")\n",
    "        \n",
    "    def play(self, minutes_played):\n",
    "        unit_decrease = minutes_played // 1\n",
    "        self.energy_level -= unit_decrease # self.energy_level = self.energy_level - unit_decrease\n",
    "        print(f\"{self.name} is playing for {minutes_played}. His energy is now {self.energy_level}\")\n",
    "    \n",
    "    def sleep(self, minutes_slept):\n",
    "        unit_increase = minutes_slept+5\n",
    "        self.energy_level += unit_increase # self.energy_level = self.energy_level + unit_increase\n",
    "\n",
    "        print(f\"{self.name} is sleeping for {minutes_slept}. His energy is now {self.energy_level}\")\n",
    "        \n",
    "buddy=Animal('Buddy',10)\n",
    "\n",
    "buddy.play(5)\n",
    "buddy.sleep(10)\n",
    "buddy.eat(10)\n",
    "\n",
    "\n"
   ]
  },
  {
   "cell_type": "code",
   "execution_count": null,
   "metadata": {},
   "outputs": [],
   "source": []
  },
  {
   "cell_type": "code",
   "execution_count": null,
   "metadata": {},
   "outputs": [],
   "source": []
  }
 ],
 "metadata": {
  "kernelspec": {
   "display_name": "Python 3 (ipykernel)",
   "language": "python",
   "name": "python3"
  },
  "language_info": {
   "codemirror_mode": {
    "name": "ipython",
    "version": 3
   },
   "file_extension": ".py",
   "mimetype": "text/x-python",
   "name": "python",
   "nbconvert_exporter": "python",
   "pygments_lexer": "ipython3",
   "version": "3.9.12"
  },
  "vscode": {
   "interpreter": {
    "hash": "aee8b7b246df8f9039afb4144a1f6fd8d2ca17a180786b69acc140d282b71a49"
   }
  }
 },
 "nbformat": 4,
 "nbformat_minor": 2
}
